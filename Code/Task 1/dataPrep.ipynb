{
  "nbformat": 4,
  "nbformat_minor": 0,
  "metadata": {
    "colab": {
      "provenance": []
    },
    "kernelspec": {
      "name": "python3",
      "display_name": "Python 3"
    },
    "language_info": {
      "name": "python"
    }
  },
  "cells": [
    {
      "cell_type": "code",
      "execution_count": null,
      "metadata": {
        "id": "anJdKahpqMa8"
      },
      "outputs": [],
      "source": [
        "import pandas as pd\n",
        "import numpy as np\n",
        "import os\n",
        "\n",
        "# List with all csv files\n",
        "csv_path = os.path.join(os.getcwd(), \"cleaned_data\")\n",
        "csv_files = os.listdir(csv_path)\n",
        "csv_files_path = [os.path.join(csv_path, csv) for csv in csv_files]\n",
        "\n",
        "# Load all the datasets in one data frame\n",
        "df_list = [pd.read_csv(csv) for csv in csv_files_path]\n",
        "df = pd.concat(df_list)\n",
        "\n",
        "# Sort the data frame by the csv index and the png file name\n",
        "df.sort_values(by=[\"csv_index\", \"file_name\"], inplace=True)\n",
        "\n",
        "df[\"mouse1_topleft_x\"] = pd.to_numeric(df[\"mouse1_topleft_x\"], errors='coerce')\n",
        "\n",
        "# Create new features for mouse 1\n",
        "df[\"height_1\"] = df[\"mouse1_topleft_y\"] - df[\"mouse1_rightdown_y\"]\n",
        "df[\"width_1\"] = df[\"mouse1_rightdown_x\"] - df[\"mouse1_topleft_x\"]\n",
        "df[\"x_1\"] = df[\"mouse1_topleft_x\"]\n",
        "df[\"y_1\"] = df[\"mouse1_rightdown_y\"]\n",
        "\n",
        "# Create new features for mouse 2\n",
        "df[\"height_2\"] = df[\"mouse2_topleft_y\"] - df[\"mouse2_rightdown_y\"]\n",
        "df[\"width_2\"] = df[\"mouse2_rightdown_x\"] - df[\"mouse2_topleft_x\"]\n",
        "df[\"x_2\"] = df[\"mouse2_topleft_x\"]\n",
        "df[\"y_2\"] = df[\"mouse2_rightdown_y\"]\n",
        "\n",
        "# Reorder columns\n",
        "columns = df.columns[4:-8].append(df.columns[-8:])\n",
        "df = df[columns]\n",
        "\n",
        "# Write the data frame into a csv file\n",
        "df.to_csv(\"processed_data.csv\", index=False)"
      ]
    }
  ]
}